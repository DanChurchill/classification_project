{
 "cells": [
  {
   "cell_type": "code",
   "execution_count": 1,
   "id": "5e5a26dc",
   "metadata": {},
   "outputs": [],
   "source": [
    "import pandas as pd\n",
    "import numpy as np\n",
    "\n",
    "# import custom modules\n",
    "import acquire\n",
    "import prepare\n",
    "import explore\n",
    "\n",
    "# visualization imports\n",
    "import seaborn as sns\n",
    "import matplotlib.pyplot as plt\n",
    "\n",
    "# Modeling and evaluation imports\n",
    "import scipy.stats as stats\n",
    "from sklearn.metrics import classification_report\n",
    "from sklearn.neighbors import KNeighborsClassifier\n",
    "from sklearn.ensemble import RandomForestClassifier\n",
    "from sklearn.linear_model import LogisticRegression\n",
    "\n",
    "# suppress warning notifications\n",
    "import warnings\n",
    "warnings.filterwarnings(\"ignore\")"
   ]
  },
  {
   "cell_type": "markdown",
   "id": "fd0dd50f",
   "metadata": {},
   "source": [
    "# Project Overview and Goals"
   ]
  },
  {
   "cell_type": "markdown",
   "id": "cde306eb",
   "metadata": {},
   "source": [
    "<div class=\"alert alert-block alert-success\">\n",
    "<b><font size=\"+1\">The purpose of this project is to aquire customer data for the Telco Company from a database, create a model to predict customer churn, and utilize that model to make predictions from a group of customers\n",
    "<br>\n",
    "    \n",
    "    \n",
    "Goal 1: Create a model that can predict churn with greater accuracy than baseline\n",
    "    \n",
    "<br>\n",
    "    Goal 2: Find drivers for customer churn at Telco"
   ]
  },
  {
   "cell_type": "markdown",
   "id": "73ee74e5",
   "metadata": {},
   "source": [
    "<hr style=\"border:10px solid purple\">\n"
   ]
  },
  {
   "cell_type": "markdown",
   "id": "6b77888a",
   "metadata": {},
   "source": [
    "# Acquire Data"
   ]
  },
  {
   "cell_type": "code",
   "execution_count": 2,
   "id": "fd369350",
   "metadata": {},
   "outputs": [],
   "source": [
    "# read telco data from a dataframe using our modular function to query SQL database\n",
    "df = acquire.get_telco_data()"
   ]
  },
  {
   "cell_type": "markdown",
   "id": "927d4855",
   "metadata": {},
   "source": [
    "### Sumarize Data"
   ]
  },
  {
   "cell_type": "code",
   "execution_count": 3,
   "id": "5ed6a8bc",
   "metadata": {},
   "outputs": [
    {
     "name": "stdout",
     "output_type": "stream",
     "text": [
      "<class 'pandas.core.frame.DataFrame'>\n",
      "RangeIndex: 7043 entries, 0 to 7042\n",
      "Data columns (total 24 columns):\n",
      " #   Column                    Non-Null Count  Dtype  \n",
      "---  ------                    --------------  -----  \n",
      " 0   internet_service_type_id  7043 non-null   int64  \n",
      " 1   payment_type_id           7043 non-null   int64  \n",
      " 2   contract_type_id          7043 non-null   int64  \n",
      " 3   customer_id               7043 non-null   object \n",
      " 4   gender                    7043 non-null   object \n",
      " 5   senior_citizen            7043 non-null   int64  \n",
      " 6   partner                   7043 non-null   object \n",
      " 7   dependents                7043 non-null   object \n",
      " 8   tenure                    7043 non-null   int64  \n",
      " 9   phone_service             7043 non-null   object \n",
      " 10  multiple_lines            7043 non-null   object \n",
      " 11  online_security           7043 non-null   object \n",
      " 12  online_backup             7043 non-null   object \n",
      " 13  device_protection         7043 non-null   object \n",
      " 14  tech_support              7043 non-null   object \n",
      " 15  streaming_tv              7043 non-null   object \n",
      " 16  streaming_movies          7043 non-null   object \n",
      " 17  paperless_billing         7043 non-null   object \n",
      " 18  monthly_charges           7043 non-null   float64\n",
      " 19  total_charges             7043 non-null   object \n",
      " 20  churn                     7043 non-null   object \n",
      " 21  contract_type             7043 non-null   object \n",
      " 22  payment_type              7043 non-null   object \n",
      " 23  internet_service_type     7043 non-null   object \n",
      "dtypes: float64(1), int64(5), object(18)\n",
      "memory usage: 1.3+ MB\n"
     ]
    }
   ],
   "source": [
    "# explore counts and DataTypes for each column\n",
    "df.info()"
   ]
  },
  {
   "cell_type": "code",
   "execution_count": 4,
   "id": "8c6bdc18",
   "metadata": {},
   "outputs": [
    {
     "data": {
      "text/html": [
       "<div>\n",
       "<style scoped>\n",
       "    .dataframe tbody tr th:only-of-type {\n",
       "        vertical-align: middle;\n",
       "    }\n",
       "\n",
       "    .dataframe tbody tr th {\n",
       "        vertical-align: top;\n",
       "    }\n",
       "\n",
       "    .dataframe thead th {\n",
       "        text-align: right;\n",
       "    }\n",
       "</style>\n",
       "<table border=\"1\" class=\"dataframe\">\n",
       "  <thead>\n",
       "    <tr style=\"text-align: right;\">\n",
       "      <th></th>\n",
       "      <th>0</th>\n",
       "      <th>1</th>\n",
       "      <th>2</th>\n",
       "      <th>3</th>\n",
       "      <th>4</th>\n",
       "    </tr>\n",
       "  </thead>\n",
       "  <tbody>\n",
       "    <tr>\n",
       "      <th>internet_service_type_id</th>\n",
       "      <td>1</td>\n",
       "      <td>1</td>\n",
       "      <td>2</td>\n",
       "      <td>2</td>\n",
       "      <td>2</td>\n",
       "    </tr>\n",
       "    <tr>\n",
       "      <th>payment_type_id</th>\n",
       "      <td>2</td>\n",
       "      <td>2</td>\n",
       "      <td>1</td>\n",
       "      <td>1</td>\n",
       "      <td>2</td>\n",
       "    </tr>\n",
       "    <tr>\n",
       "      <th>contract_type_id</th>\n",
       "      <td>2</td>\n",
       "      <td>1</td>\n",
       "      <td>1</td>\n",
       "      <td>1</td>\n",
       "      <td>1</td>\n",
       "    </tr>\n",
       "    <tr>\n",
       "      <th>customer_id</th>\n",
       "      <td>0002-ORFBO</td>\n",
       "      <td>0003-MKNFE</td>\n",
       "      <td>0004-TLHLJ</td>\n",
       "      <td>0011-IGKFF</td>\n",
       "      <td>0013-EXCHZ</td>\n",
       "    </tr>\n",
       "    <tr>\n",
       "      <th>gender</th>\n",
       "      <td>Female</td>\n",
       "      <td>Male</td>\n",
       "      <td>Male</td>\n",
       "      <td>Male</td>\n",
       "      <td>Female</td>\n",
       "    </tr>\n",
       "    <tr>\n",
       "      <th>senior_citizen</th>\n",
       "      <td>0</td>\n",
       "      <td>0</td>\n",
       "      <td>0</td>\n",
       "      <td>1</td>\n",
       "      <td>1</td>\n",
       "    </tr>\n",
       "    <tr>\n",
       "      <th>partner</th>\n",
       "      <td>Yes</td>\n",
       "      <td>No</td>\n",
       "      <td>No</td>\n",
       "      <td>Yes</td>\n",
       "      <td>Yes</td>\n",
       "    </tr>\n",
       "    <tr>\n",
       "      <th>dependents</th>\n",
       "      <td>Yes</td>\n",
       "      <td>No</td>\n",
       "      <td>No</td>\n",
       "      <td>No</td>\n",
       "      <td>No</td>\n",
       "    </tr>\n",
       "    <tr>\n",
       "      <th>tenure</th>\n",
       "      <td>9</td>\n",
       "      <td>9</td>\n",
       "      <td>4</td>\n",
       "      <td>13</td>\n",
       "      <td>3</td>\n",
       "    </tr>\n",
       "    <tr>\n",
       "      <th>phone_service</th>\n",
       "      <td>Yes</td>\n",
       "      <td>Yes</td>\n",
       "      <td>Yes</td>\n",
       "      <td>Yes</td>\n",
       "      <td>Yes</td>\n",
       "    </tr>\n",
       "    <tr>\n",
       "      <th>multiple_lines</th>\n",
       "      <td>No</td>\n",
       "      <td>Yes</td>\n",
       "      <td>No</td>\n",
       "      <td>No</td>\n",
       "      <td>No</td>\n",
       "    </tr>\n",
       "    <tr>\n",
       "      <th>online_security</th>\n",
       "      <td>No</td>\n",
       "      <td>No</td>\n",
       "      <td>No</td>\n",
       "      <td>No</td>\n",
       "      <td>No</td>\n",
       "    </tr>\n",
       "    <tr>\n",
       "      <th>online_backup</th>\n",
       "      <td>Yes</td>\n",
       "      <td>No</td>\n",
       "      <td>No</td>\n",
       "      <td>Yes</td>\n",
       "      <td>No</td>\n",
       "    </tr>\n",
       "    <tr>\n",
       "      <th>device_protection</th>\n",
       "      <td>No</td>\n",
       "      <td>No</td>\n",
       "      <td>Yes</td>\n",
       "      <td>Yes</td>\n",
       "      <td>No</td>\n",
       "    </tr>\n",
       "    <tr>\n",
       "      <th>tech_support</th>\n",
       "      <td>Yes</td>\n",
       "      <td>No</td>\n",
       "      <td>No</td>\n",
       "      <td>No</td>\n",
       "      <td>Yes</td>\n",
       "    </tr>\n",
       "    <tr>\n",
       "      <th>streaming_tv</th>\n",
       "      <td>Yes</td>\n",
       "      <td>No</td>\n",
       "      <td>No</td>\n",
       "      <td>Yes</td>\n",
       "      <td>Yes</td>\n",
       "    </tr>\n",
       "    <tr>\n",
       "      <th>streaming_movies</th>\n",
       "      <td>No</td>\n",
       "      <td>Yes</td>\n",
       "      <td>No</td>\n",
       "      <td>Yes</td>\n",
       "      <td>No</td>\n",
       "    </tr>\n",
       "    <tr>\n",
       "      <th>paperless_billing</th>\n",
       "      <td>Yes</td>\n",
       "      <td>No</td>\n",
       "      <td>Yes</td>\n",
       "      <td>Yes</td>\n",
       "      <td>Yes</td>\n",
       "    </tr>\n",
       "    <tr>\n",
       "      <th>monthly_charges</th>\n",
       "      <td>65.6</td>\n",
       "      <td>59.9</td>\n",
       "      <td>73.9</td>\n",
       "      <td>98.0</td>\n",
       "      <td>83.9</td>\n",
       "    </tr>\n",
       "    <tr>\n",
       "      <th>total_charges</th>\n",
       "      <td>593.3</td>\n",
       "      <td>542.4</td>\n",
       "      <td>280.85</td>\n",
       "      <td>1237.85</td>\n",
       "      <td>267.4</td>\n",
       "    </tr>\n",
       "    <tr>\n",
       "      <th>churn</th>\n",
       "      <td>No</td>\n",
       "      <td>No</td>\n",
       "      <td>Yes</td>\n",
       "      <td>Yes</td>\n",
       "      <td>Yes</td>\n",
       "    </tr>\n",
       "    <tr>\n",
       "      <th>contract_type</th>\n",
       "      <td>One year</td>\n",
       "      <td>Month-to-month</td>\n",
       "      <td>Month-to-month</td>\n",
       "      <td>Month-to-month</td>\n",
       "      <td>Month-to-month</td>\n",
       "    </tr>\n",
       "    <tr>\n",
       "      <th>payment_type</th>\n",
       "      <td>Mailed check</td>\n",
       "      <td>Mailed check</td>\n",
       "      <td>Electronic check</td>\n",
       "      <td>Electronic check</td>\n",
       "      <td>Mailed check</td>\n",
       "    </tr>\n",
       "    <tr>\n",
       "      <th>internet_service_type</th>\n",
       "      <td>DSL</td>\n",
       "      <td>DSL</td>\n",
       "      <td>Fiber optic</td>\n",
       "      <td>Fiber optic</td>\n",
       "      <td>Fiber optic</td>\n",
       "    </tr>\n",
       "  </tbody>\n",
       "</table>\n",
       "</div>"
      ],
      "text/plain": [
       "                                     0               1                 2  \\\n",
       "internet_service_type_id             1               1                 2   \n",
       "payment_type_id                      2               2                 1   \n",
       "contract_type_id                     2               1                 1   \n",
       "customer_id                 0002-ORFBO      0003-MKNFE        0004-TLHLJ   \n",
       "gender                          Female            Male              Male   \n",
       "senior_citizen                       0               0                 0   \n",
       "partner                            Yes              No                No   \n",
       "dependents                         Yes              No                No   \n",
       "tenure                               9               9                 4   \n",
       "phone_service                      Yes             Yes               Yes   \n",
       "multiple_lines                      No             Yes                No   \n",
       "online_security                     No              No                No   \n",
       "online_backup                      Yes              No                No   \n",
       "device_protection                   No              No               Yes   \n",
       "tech_support                       Yes              No                No   \n",
       "streaming_tv                       Yes              No                No   \n",
       "streaming_movies                    No             Yes                No   \n",
       "paperless_billing                  Yes              No               Yes   \n",
       "monthly_charges                   65.6            59.9              73.9   \n",
       "total_charges                    593.3           542.4            280.85   \n",
       "churn                               No              No               Yes   \n",
       "contract_type                 One year  Month-to-month    Month-to-month   \n",
       "payment_type              Mailed check    Mailed check  Electronic check   \n",
       "internet_service_type              DSL             DSL       Fiber optic   \n",
       "\n",
       "                                         3               4  \n",
       "internet_service_type_id                 2               2  \n",
       "payment_type_id                          1               2  \n",
       "contract_type_id                         1               1  \n",
       "customer_id                     0011-IGKFF      0013-EXCHZ  \n",
       "gender                                Male          Female  \n",
       "senior_citizen                           1               1  \n",
       "partner                                Yes             Yes  \n",
       "dependents                              No              No  \n",
       "tenure                                  13               3  \n",
       "phone_service                          Yes             Yes  \n",
       "multiple_lines                          No              No  \n",
       "online_security                         No              No  \n",
       "online_backup                          Yes              No  \n",
       "device_protection                      Yes              No  \n",
       "tech_support                            No             Yes  \n",
       "streaming_tv                           Yes             Yes  \n",
       "streaming_movies                       Yes              No  \n",
       "paperless_billing                      Yes             Yes  \n",
       "monthly_charges                       98.0            83.9  \n",
       "total_charges                      1237.85           267.4  \n",
       "churn                                  Yes             Yes  \n",
       "contract_type               Month-to-month  Month-to-month  \n",
       "payment_type              Electronic check    Mailed check  \n",
       "internet_service_type          Fiber optic     Fiber optic  "
      ]
     },
     "execution_count": 4,
     "metadata": {},
     "output_type": "execute_result"
    }
   ],
   "source": [
    "# look at a sample of our data\n",
    "df.head().T"
   ]
  },
  {
   "cell_type": "code",
   "execution_count": 5,
   "id": "6b1e6f8c",
   "metadata": {
    "scrolled": true
   },
   "outputs": [
    {
     "data": {
      "text/plain": [
       "No     5174\n",
       "Yes    1869\n",
       "Name: churn, dtype: int64"
      ]
     },
     "execution_count": 5,
     "metadata": {},
     "output_type": "execute_result"
    }
   ],
   "source": [
    "# explore the values of our target column\n",
    "df.churn.value_counts()"
   ]
  },
  {
   "cell_type": "code",
   "execution_count": 6,
   "id": "06f519ef",
   "metadata": {},
   "outputs": [
    {
     "data": {
      "text/plain": [
       "internet_service_type_id       3\n",
       "payment_type_id                4\n",
       "contract_type_id               3\n",
       "customer_id                 7043\n",
       "gender                         2\n",
       "senior_citizen                 2\n",
       "partner                        2\n",
       "dependents                     2\n",
       "tenure                        73\n",
       "phone_service                  2\n",
       "multiple_lines                 3\n",
       "online_security                3\n",
       "online_backup                  3\n",
       "device_protection              3\n",
       "tech_support                   3\n",
       "streaming_tv                   3\n",
       "streaming_movies               3\n",
       "paperless_billing              2\n",
       "monthly_charges             1585\n",
       "total_charges               6531\n",
       "churn                          2\n",
       "contract_type                  3\n",
       "payment_type                   4\n",
       "internet_service_type          3\n",
       "dtype: int64"
      ]
     },
     "execution_count": 6,
     "metadata": {},
     "output_type": "execute_result"
    }
   ],
   "source": [
    "# unique values for each column to see which are categorical, binary, and continuous\n",
    "df.nunique()"
   ]
  },
  {
   "cell_type": "markdown",
   "id": "089e4994",
   "metadata": {},
   "source": [
    "<div class=\"alert alert-block alert-success\"><b><font size=\"+1\">\n",
    "\n",
    "Takeaways from Acquire:<br><br>\n",
    "-  Acquired data from SQL server and saved a local .csv file using function in my acquire.py file<br><br>\n",
    "    \n",
    "-  7043 entries with no missing/Null values<br><br>\n",
    "-  Categorical columns that need to be encoded<br><br>\n",
    "-  Numerical columns that require further datatype conversions (total charges)<br><br>\n",
    "    "
   ]
  },
  {
   "cell_type": "markdown",
   "id": "21705574",
   "metadata": {},
   "source": [
    "<hr style=\"border:10px solid purple\">\n"
   ]
  },
  {
   "cell_type": "markdown",
   "id": "9ced177b",
   "metadata": {},
   "source": [
    "# Prepare Data"
   ]
  },
  {
   "cell_type": "code",
   "execution_count": 7,
   "id": "3ce007f7",
   "metadata": {},
   "outputs": [
    {
     "data": {
      "text/html": [
       "<div>\n",
       "<style scoped>\n",
       "    .dataframe tbody tr th:only-of-type {\n",
       "        vertical-align: middle;\n",
       "    }\n",
       "\n",
       "    .dataframe tbody tr th {\n",
       "        vertical-align: top;\n",
       "    }\n",
       "\n",
       "    .dataframe thead th {\n",
       "        text-align: right;\n",
       "    }\n",
       "</style>\n",
       "<table border=\"1\" class=\"dataframe\">\n",
       "  <thead>\n",
       "    <tr style=\"text-align: right;\">\n",
       "      <th></th>\n",
       "      <th>0</th>\n",
       "    </tr>\n",
       "  </thead>\n",
       "  <tbody>\n",
       "    <tr>\n",
       "      <th>customer_id</th>\n",
       "      <td>0002-ORFBO</td>\n",
       "    </tr>\n",
       "    <tr>\n",
       "      <th>senior_citizen</th>\n",
       "      <td>0</td>\n",
       "    </tr>\n",
       "    <tr>\n",
       "      <th>tenure</th>\n",
       "      <td>9</td>\n",
       "    </tr>\n",
       "    <tr>\n",
       "      <th>monthly_charges</th>\n",
       "      <td>65.6</td>\n",
       "    </tr>\n",
       "    <tr>\n",
       "      <th>total_charges</th>\n",
       "      <td>593.3</td>\n",
       "    </tr>\n",
       "    <tr>\n",
       "      <th>male</th>\n",
       "      <td>0</td>\n",
       "    </tr>\n",
       "    <tr>\n",
       "      <th>partner</th>\n",
       "      <td>1</td>\n",
       "    </tr>\n",
       "    <tr>\n",
       "      <th>dependents</th>\n",
       "      <td>1</td>\n",
       "    </tr>\n",
       "    <tr>\n",
       "      <th>phone</th>\n",
       "      <td>1</td>\n",
       "    </tr>\n",
       "    <tr>\n",
       "      <th>paperless_billing</th>\n",
       "      <td>1</td>\n",
       "    </tr>\n",
       "    <tr>\n",
       "      <th>churn</th>\n",
       "      <td>0</td>\n",
       "    </tr>\n",
       "    <tr>\n",
       "      <th>multiple_lines_yes</th>\n",
       "      <td>0</td>\n",
       "    </tr>\n",
       "    <tr>\n",
       "      <th>online_security_no</th>\n",
       "      <td>1</td>\n",
       "    </tr>\n",
       "    <tr>\n",
       "      <th>online_security_yes</th>\n",
       "      <td>0</td>\n",
       "    </tr>\n",
       "    <tr>\n",
       "      <th>online_backup_no</th>\n",
       "      <td>0</td>\n",
       "    </tr>\n",
       "    <tr>\n",
       "      <th>online_backup_yes</th>\n",
       "      <td>1</td>\n",
       "    </tr>\n",
       "    <tr>\n",
       "      <th>device_protection_no</th>\n",
       "      <td>1</td>\n",
       "    </tr>\n",
       "    <tr>\n",
       "      <th>device_protection_yes</th>\n",
       "      <td>0</td>\n",
       "    </tr>\n",
       "    <tr>\n",
       "      <th>tech_support_no</th>\n",
       "      <td>0</td>\n",
       "    </tr>\n",
       "    <tr>\n",
       "      <th>tech_support_yes</th>\n",
       "      <td>1</td>\n",
       "    </tr>\n",
       "    <tr>\n",
       "      <th>streaming_tv_no</th>\n",
       "      <td>0</td>\n",
       "    </tr>\n",
       "    <tr>\n",
       "      <th>streaming_tv_yes</th>\n",
       "      <td>1</td>\n",
       "    </tr>\n",
       "    <tr>\n",
       "      <th>streaming_movies_no</th>\n",
       "      <td>1</td>\n",
       "    </tr>\n",
       "    <tr>\n",
       "      <th>streaming_movies_yes</th>\n",
       "      <td>0</td>\n",
       "    </tr>\n",
       "    <tr>\n",
       "      <th>contract_type_month-to-month</th>\n",
       "      <td>0</td>\n",
       "    </tr>\n",
       "    <tr>\n",
       "      <th>contract_type_one_year</th>\n",
       "      <td>1</td>\n",
       "    </tr>\n",
       "    <tr>\n",
       "      <th>contract_type_two_year</th>\n",
       "      <td>0</td>\n",
       "    </tr>\n",
       "    <tr>\n",
       "      <th>payment_type_bank_transfer_auto</th>\n",
       "      <td>0</td>\n",
       "    </tr>\n",
       "    <tr>\n",
       "      <th>payment_type_credit_card_auto</th>\n",
       "      <td>0</td>\n",
       "    </tr>\n",
       "    <tr>\n",
       "      <th>payment_type_electronic_check</th>\n",
       "      <td>0</td>\n",
       "    </tr>\n",
       "    <tr>\n",
       "      <th>payment_type_mailed_check</th>\n",
       "      <td>1</td>\n",
       "    </tr>\n",
       "    <tr>\n",
       "      <th>internet_type_dsl</th>\n",
       "      <td>1</td>\n",
       "    </tr>\n",
       "    <tr>\n",
       "      <th>internet_type_fiber_optic</th>\n",
       "      <td>0</td>\n",
       "    </tr>\n",
       "    <tr>\n",
       "      <th>internet_type_none</th>\n",
       "      <td>0</td>\n",
       "    </tr>\n",
       "    <tr>\n",
       "      <th>addon_count</th>\n",
       "      <td>3</td>\n",
       "    </tr>\n",
       "  </tbody>\n",
       "</table>\n",
       "</div>"
      ],
      "text/plain": [
       "                                          0\n",
       "customer_id                      0002-ORFBO\n",
       "senior_citizen                            0\n",
       "tenure                                    9\n",
       "monthly_charges                        65.6\n",
       "total_charges                         593.3\n",
       "male                                      0\n",
       "partner                                   1\n",
       "dependents                                1\n",
       "phone                                     1\n",
       "paperless_billing                         1\n",
       "churn                                     0\n",
       "multiple_lines_yes                        0\n",
       "online_security_no                        1\n",
       "online_security_yes                       0\n",
       "online_backup_no                          0\n",
       "online_backup_yes                         1\n",
       "device_protection_no                      1\n",
       "device_protection_yes                     0\n",
       "tech_support_no                           0\n",
       "tech_support_yes                          1\n",
       "streaming_tv_no                           0\n",
       "streaming_tv_yes                          1\n",
       "streaming_movies_no                       1\n",
       "streaming_movies_yes                      0\n",
       "contract_type_month-to-month              0\n",
       "contract_type_one_year                    1\n",
       "contract_type_two_year                    0\n",
       "payment_type_bank_transfer_auto           0\n",
       "payment_type_credit_card_auto             0\n",
       "payment_type_electronic_check             0\n",
       "payment_type_mailed_check                 1\n",
       "internet_type_dsl                         1\n",
       "internet_type_fiber_optic                 0\n",
       "internet_type_none                        0\n",
       "addon_count                               3"
      ]
     },
     "execution_count": 7,
     "metadata": {},
     "output_type": "execute_result"
    }
   ],
   "source": [
    "# Prepare Telco data using the prep_telco function in our prepare.py file\n",
    "df = prepare.prep_telco(df)\n",
    "df.head(1).T"
   ]
  },
  {
   "cell_type": "code",
   "execution_count": 8,
   "id": "518b8fac",
   "metadata": {
    "scrolled": true
   },
   "outputs": [
    {
     "data": {
      "text/plain": [
       "(7043, 35)"
      ]
     },
     "execution_count": 8,
     "metadata": {},
     "output_type": "execute_result"
    }
   ],
   "source": [
    "# verify size of our transformed dataframe\n",
    "df.shape"
   ]
  },
  {
   "cell_type": "code",
   "execution_count": 9,
   "id": "ed674213",
   "metadata": {},
   "outputs": [
    {
     "data": {
      "image/png": "[encoded data removed]",
      "text/plain": [
       "<Figure size 648x432 with 1 Axes>"
      ]
     },
     "metadata": {
      "needs_background": "light"
     },
     "output_type": "display_data"
    },
    {
     "data": {
      "image/png": "[encoded data removed]",
      "text/plain": [
       "<Figure size 648x432 with 1 Axes>"
      ]
     },
     "metadata": {
      "needs_background": "light"
     },
     "output_type": "display_data"
    },
    {
     "data": {
      "image/png": "[encoded data removed]",
      "text/plain": [
       "<Figure size 648x432 with 1 Axes>"
      ]
     },
     "metadata": {
      "needs_background": "light"
     },
     "output_type": "display_data"
    },
    {
     "data": {
      "image/png": "[encoded data removed]",
      "text/plain": [
       "<Figure size 648x432 with 1 Axes>"
      ]
     },
     "metadata": {
      "needs_background": "light"
     },
     "output_type": "display_data"
    }
   ],
   "source": [
    "# plot distributions of numerical values\n",
    "nums = ['monthly_charges', 'total_charges', 'tenure', 'addon_count']\n",
    "for col in nums:\n",
    "    sns.histplot(x=col, data=df, palette=\"muted\",)\n",
    "    plt.title(f'distribution of {col}')\n",
    "    plt.gcf().set_size_inches(9, 6)\n",
    "    plt.show()"
   ]
  },
  {
   "cell_type": "code",
   "execution_count": 10,
   "id": "37020d23",
   "metadata": {},
   "outputs": [
    {
     "data": {
      "text/plain": [
       "((4225, 35), (1409, 35), (1409, 35))"
      ]
     },
     "execution_count": 10,
     "metadata": {},
     "output_type": "execute_result"
    }
   ],
   "source": [
    "# split data into Train, Validate, and Test datasets in an 60% / 20% / 20% ratio\n",
    "# using the my_split function in the prepare.py file\n",
    "train, validate, test = prepare.my_split(df, target='churn')\n",
    "train.shape, validate.shape, test.shape"
   ]
  },
  {
   "cell_type": "markdown",
   "id": "9bf89c92",
   "metadata": {},
   "source": [
    "<div class=\"alert alert-block alert-success\"><b><font size=\"+1\">\n",
    "Takeaways from Prepare:<br><br>\n",
    "    - Deleted '_id' columns that contained redundent information<br>\n",
    "    - Converted total_charges from a string to a float<br><br>\n",
    "             * NOTE: There were 11 entries of 0 for total_charges, but in each case the tenure was also 0 indicating they were new customers; no values were imputed because this was a logical value<br><br>\n",
    "    - Encoded categorical and binary columns using 1-hot encoding<br>\n",
    "    - Renamed some columns for brevity<br>\n",
    "    - Created 'addon_count' column, a count of how many internet add-ons each customer has<br>\n",
    "    - Split Data into Train, Validate, and Test using 'Churn' as stratification<br>"
   ]
  },
  {
   "cell_type": "markdown",
   "id": "3aa63382",
   "metadata": {},
   "source": [
    "<hr style=\"border:10px solid purple\">\n"
   ]
  },
  {
   "cell_type": "markdown",
   "id": "39786f27",
   "metadata": {},
   "source": [
    "# Data Exploration"
   ]
  },
  {
   "cell_type": "markdown",
   "id": "97422f43",
   "metadata": {},
   "source": [
    "### Which features show correlation to churn?"
   ]
  },
  {
   "cell_type": "code",
   "execution_count": 11,
   "id": "9a38a76d",
   "metadata": {},
   "outputs": [
    {
     "data": {
      "text/html": [
       "<style type=\"text/css\">\n",
       "</style>\n",
       "<table id=\"T_f2cc1\" style='display:inline; margin-right:100px;'>\n",
       "  <caption>Most Correlation</caption>\n",
       "  <thead>\n",
       "    <tr>\n",
       "      <th class=\"blank level0\" >&nbsp;</th>\n",
       "      <th id=\"T_f2cc1_level0_col0\" class=\"col_heading level0 col0\" >Correlation</th>\n",
       "    </tr>\n",
       "  </thead>\n",
       "  <tbody>\n",
       "    <tr>\n",
       "      <th id=\"T_f2cc1_level0_row0\" class=\"row_heading level0 row0\" >contract_type_month-to-month</th>\n",
       "      <td id=\"T_f2cc1_row0_col0\" class=\"data row0 col0\" >0.407998</td>\n",
       "    </tr>\n",
       "    <tr>\n",
       "      <th id=\"T_f2cc1_level0_row1\" class=\"row_heading level0 row1\" >tenure</th>\n",
       "      <td id=\"T_f2cc1_row1_col0\" class=\"data row1 col0\" >0.361963</td>\n",
       "    </tr>\n",
       "    <tr>\n",
       "      <th id=\"T_f2cc1_level0_row2\" class=\"row_heading level0 row2\" >online_security_no</th>\n",
       "      <td id=\"T_f2cc1_row2_col0\" class=\"data row2 col0\" >0.346984</td>\n",
       "    </tr>\n",
       "    <tr>\n",
       "      <th id=\"T_f2cc1_level0_row3\" class=\"row_heading level0 row3\" >tech_support_no</th>\n",
       "      <td id=\"T_f2cc1_row3_col0\" class=\"data row3 col0\" >0.333772</td>\n",
       "    </tr>\n",
       "    <tr>\n",
       "      <th id=\"T_f2cc1_level0_row4\" class=\"row_heading level0 row4\" >contract_type_two_year</th>\n",
       "      <td id=\"T_f2cc1_row4_col0\" class=\"data row4 col0\" >0.316252</td>\n",
       "    </tr>\n",
       "    <tr>\n",
       "      <th id=\"T_f2cc1_level0_row5\" class=\"row_heading level0 row5\" >internet_type_fiber_optic</th>\n",
       "      <td id=\"T_f2cc1_row5_col0\" class=\"data row5 col0\" >0.314111</td>\n",
       "    </tr>\n",
       "    <tr>\n",
       "      <th id=\"T_f2cc1_level0_row6\" class=\"row_heading level0 row6\" >payment_type_electronic_check</th>\n",
       "      <td id=\"T_f2cc1_row6_col0\" class=\"data row6 col0\" >0.285826</td>\n",
       "    </tr>\n",
       "    <tr>\n",
       "      <th id=\"T_f2cc1_level0_row7\" class=\"row_heading level0 row7\" >online_backup_no</th>\n",
       "      <td id=\"T_f2cc1_row7_col0\" class=\"data row7 col0\" >0.272501</td>\n",
       "    </tr>\n",
       "    <tr>\n",
       "      <th id=\"T_f2cc1_level0_row8\" class=\"row_heading level0 row8\" >device_protection_no</th>\n",
       "      <td id=\"T_f2cc1_row8_col0\" class=\"data row8 col0\" >0.270643</td>\n",
       "    </tr>\n",
       "    <tr>\n",
       "      <th id=\"T_f2cc1_level0_row9\" class=\"row_heading level0 row9\" >internet_type_none</th>\n",
       "      <td id=\"T_f2cc1_row9_col0\" class=\"data row9 col0\" >0.230547</td>\n",
       "    </tr>\n",
       "    <tr>\n",
       "      <th id=\"T_f2cc1_level0_row10\" class=\"row_heading level0 row10\" >total_charges</th>\n",
       "      <td id=\"T_f2cc1_row10_col0\" class=\"data row10 col0\" >0.205069</td>\n",
       "    </tr>\n",
       "  </tbody>\n",
       "</table>\n",
       "<style type=\"text/css\">\n",
       "</style>\n",
       "<table id=\"T_53bad\" style='display:inline'>\n",
       "  <caption>Least Correlation</caption>\n",
       "  <thead>\n",
       "    <tr>\n",
       "      <th class=\"blank level0\" >&nbsp;</th>\n",
       "      <th id=\"T_53bad_level0_col0\" class=\"col_heading level0 col0\" >Correlation</th>\n",
       "    </tr>\n",
       "  </thead>\n",
       "  <tbody>\n",
       "    <tr>\n",
       "      <th id=\"T_53bad_level0_row0\" class=\"row_heading level0 row0\" >male</th>\n",
       "      <td id=\"T_53bad_row0_col0\" class=\"data row0 col0\" >0.012430</td>\n",
       "    </tr>\n",
       "    <tr>\n",
       "      <th id=\"T_53bad_level0_row1\" class=\"row_heading level0 row1\" >phone</th>\n",
       "      <td id=\"T_53bad_row1_col0\" class=\"data row1 col0\" >0.013630</td>\n",
       "    </tr>\n",
       "    <tr>\n",
       "      <th id=\"T_53bad_level0_row2\" class=\"row_heading level0 row2\" >multiple_lines_yes</th>\n",
       "      <td id=\"T_53bad_row2_col0\" class=\"data row2 col0\" >0.025622</td>\n",
       "    </tr>\n",
       "    <tr>\n",
       "      <th id=\"T_53bad_level0_row3\" class=\"row_heading level0 row3\" >streaming_movies_yes</th>\n",
       "      <td id=\"T_53bad_row3_col0\" class=\"data row3 col0\" >0.056943</td>\n",
       "    </tr>\n",
       "    <tr>\n",
       "      <th id=\"T_53bad_level0_row4\" class=\"row_heading level0 row4\" >streaming_tv_yes</th>\n",
       "      <td id=\"T_53bad_row4_col0\" class=\"data row4 col0\" >0.068351</td>\n",
       "    </tr>\n",
       "    <tr>\n",
       "      <th id=\"T_53bad_level0_row5\" class=\"row_heading level0 row5\" >device_protection_yes</th>\n",
       "      <td id=\"T_53bad_row5_col0\" class=\"data row5 col0\" >0.082384</td>\n",
       "    </tr>\n",
       "    <tr>\n",
       "      <th id=\"T_53bad_level0_row6\" class=\"row_heading level0 row6\" >payment_type_mailed_check</th>\n",
       "      <td id=\"T_53bad_row6_col0\" class=\"data row6 col0\" >0.082489</td>\n",
       "    </tr>\n",
       "    <tr>\n",
       "      <th id=\"T_53bad_level0_row7\" class=\"row_heading level0 row7\" >online_backup_yes</th>\n",
       "      <td id=\"T_53bad_row7_col0\" class=\"data row7 col0\" >0.084358</td>\n",
       "    </tr>\n",
       "    <tr>\n",
       "      <th id=\"T_53bad_level0_row8\" class=\"row_heading level0 row8\" >addon_count</th>\n",
       "      <td id=\"T_53bad_row8_col0\" class=\"data row8 col0\" >0.091027</td>\n",
       "    </tr>\n",
       "    <tr>\n",
       "      <th id=\"T_53bad_level0_row9\" class=\"row_heading level0 row9\" >payment_type_bank_transfer_auto</th>\n",
       "      <td id=\"T_53bad_row9_col0\" class=\"data row9 col0\" >0.108121</td>\n",
       "    </tr>\n",
       "    <tr>\n",
       "      <th id=\"T_53bad_level0_row10\" class=\"row_heading level0 row10\" >streaming_tv_no</th>\n",
       "      <td id=\"T_53bad_row10_col0\" class=\"data row10 col0\" >0.126668</td>\n",
       "    </tr>\n",
       "  </tbody>\n",
       "</table>\n"
      ]
     },
     "metadata": {},
     "output_type": "display_data"
    }
   ],
   "source": [
    "# call function in explore.py to compare linear correlation values of each column to churn\n",
    "explore.correlation_report(train, target='churn')"
   ]
  },
  {
   "cell_type": "markdown",
   "id": "826a10b1",
   "metadata": {},
   "source": [
    "<div class=\"alert alert-block alert-warning\">\n",
    "\n",
    "\n",
    "Correlation test takeaways:<br>\n",
    "    - Contract types, fiber optic internet, payment by check, and not having add-ons showed higher correlation to churn<br>\n",
    "    - Phone service, gender, and multiple lines showed lower correlation to churn"
   ]
  },
  {
   "cell_type": "markdown",
   "id": "667f0cea",
   "metadata": {},
   "source": [
    "##  What is our baseline churn rate?"
   ]
  },
  {
   "cell_type": "code",
   "execution_count": 12,
   "id": "50575156",
   "metadata": {},
   "outputs": [],
   "source": [
    "# determine the percentage of customers that churn/do not churn\n",
    "baseline = round(train.churn.mean() ,4)"
   ]
  },
  {
   "cell_type": "code",
   "execution_count": 13,
   "id": "75df0321",
   "metadata": {},
   "outputs": [
    {
     "data": {
      "image/png": "[encoded data removed]",
      "text/plain": [
       "<Figure size 864x432 with 1 Axes>"
      ]
     },
     "metadata": {
      "needs_background": "light"
     },
     "output_type": "display_data"
    },
    {
     "name": "stdout",
     "output_type": "stream",
     "text": [
      "Our baseline for predictions is that  0.2653  of customers churn\n",
      "                            and that  0.7347 of customers do not churn\n"
     ]
    }
   ],
   "source": [
    "#plot distribution\n",
    "x = sns.countplot(x ='churn', data = train)\n",
    "plt.title('Customers who churn')\n",
    "plt.gcf().set_size_inches(12, 6)\n",
    "plt.xticks([0,1],['No','Yes'])\n",
    "plt.xlabel('Churn')\n",
    "plt.ylabel('# of Customers')\n",
    "plt.bar_label(x.containers[0])\n",
    "plt.show()\n",
    "print('Our baseline for predictions is that ', baseline,' of customers churn')\n",
    "print('                            and that ',1-baseline,'of customers do not churn')"
   ]
  },
  {
   "cell_type": "markdown",
   "id": "adf4ceff",
   "metadata": {},
   "source": [
    "## Does having internet service increase likelihood of churn?"
   ]
  },
  {
   "cell_type": "code",
   "execution_count": 14,
   "id": "6cd82652",
   "metadata": {},
   "outputs": [
    {
     "data": {
      "text/plain": [
       "((3303, 35), (922, 35))"
      ]
     },
     "execution_count": 14,
     "metadata": {},
     "output_type": "execute_result"
    }
   ],
   "source": [
    "# create subsets of those with and without internet and run tests\n",
    "internet = train[train.internet_type_none == 0]\n",
    "no_internet = train[train.internet_type_none == 1]\n",
    "internet.shape, no_internet.shape"
   ]
  },
  {
   "cell_type": "code",
   "execution_count": 15,
   "id": "44b296f4",
   "metadata": {},
   "outputs": [
    {
     "data": {
      "image/png": "[encoded data removed]",
      "text/plain": [
       "<Figure size 720x360 with 1 Axes>"
      ]
     },
     "metadata": {
      "needs_background": "light"
     },
     "output_type": "display_data"
    },
    {
     "name": "stdout",
     "output_type": "stream",
     "text": [
      "Churn rate of those with internet is 0.3191\n",
      "Churn rate of those without internet is 0.0727\n"
     ]
    }
   ],
   "source": [
    "# plot \n",
    "p = sns.factorplot( x=\"internet_type_none\", y=\"churn\",  data=train, size=5, \n",
    "                   aspect=2, kind=\"bar\", palette=\"muted\", ci=None,\n",
    "                   edgecolor=\".2\")\n",
    "plt.axhline(baseline, label = 'overall churn rate', ls='--')\n",
    "p.set_xticklabels(['Yes','No'])\n",
    "p.set_ylabels(\"Churn Rate\")\n",
    "p.set_xlabels(\"Internet\")\n",
    "plt.title('Do those with internet churn more?')\n",
    "plt.show()\n",
    "# compare rates of churn in each sample\n",
    "print('Churn rate of those with internet is', round(internet.churn.mean(),4))\n",
    "print('Churn rate of those without internet is', round(no_internet.churn.mean(),4))\n"
   ]
  },
  {
   "cell_type": "markdown",
   "id": "ae07dbc5",
   "metadata": {},
   "source": [
    "### it certainly appears those with internet churn more often than those without.  Let's test it!\n",
    " "
   ]
  },
  {
   "cell_type": "markdown",
   "id": "e20bcb78",
   "metadata": {},
   "source": [
    "- **Hypothesis**\n",
    "\n",
    "- alpha = .05\n",
    "\n",
    "- $H_0$: There is no difference in churn between those with and without internet service\n",
    "\n",
    "- $H_a$: There is a significant difference in churn between those with and without internet service\n"
   ]
  },
  {
   "cell_type": "code",
   "execution_count": 16,
   "id": "3a7d7c31",
   "metadata": {},
   "outputs": [
    {
     "name": "stdout",
     "output_type": "stream",
     "text": [
      "internet variance: 0.21734238261089298\n",
      "no internet variance: 0.06746062588763983\n"
     ]
    }
   ],
   "source": [
    "# Perform an Independent T-Test (2 samples)\n",
    "# verify assumptions:  Samples are independent, and sample sizes are large enough to assume normal distribution\n",
    "# check variance\n",
    "print('internet variance:', internet.churn.var())\n",
    "print('no internet variance:', no_internet.churn.var())"
   ]
  },
  {
   "cell_type": "code",
   "execution_count": 17,
   "id": "d7db068e",
   "metadata": {},
   "outputs": [
    {
     "name": "stdout",
     "output_type": "stream",
     "text": [
      "We reject the null hypothesis.\n"
     ]
    }
   ],
   "source": [
    "# Perform test\n",
    "α = .05\n",
    "\n",
    "t, p = stats.ttest_ind(internet.churn, no_internet.churn, equal_var=False)\n",
    "if p < α:\n",
    "    print('We reject the null hypothesis.')\n",
    "else:\n",
    "    print('The null hypothesis is confirmed')"
   ]
  },
  {
   "cell_type": "markdown",
   "id": "cd8845c0",
   "metadata": {},
   "source": [
    "<div class=\"alert alert-block alert-warning\">\n",
    "\n",
    "**Conclusion** \n",
    "\n",
    "- We reject $H_0$ that the churn rate is the same for customers with or without internet service.\n",
    "\n",
    "**Takeaway**\n",
    "\n",
    "- Internet Service will be a useful feature for modeling. "
   ]
  },
  {
   "cell_type": "markdown",
   "id": "2d954e21",
   "metadata": {},
   "source": [
    "## Does the number of internet service add-ons affect churn rate?"
   ]
  },
  {
   "cell_type": "code",
   "execution_count": 18,
   "id": "963657b5",
   "metadata": {},
   "outputs": [
    {
     "data": {
      "text/plain": [
       "((2894, 35), (409, 35))"
      ]
     },
     "execution_count": 18,
     "metadata": {},
     "output_type": "execute_result"
    }
   ],
   "source": [
    "# create subset of those with and without add-ons\n",
    "adds = internet[internet.addon_count > 0]\n",
    "no_adds = internet[internet.addon_count == 0]\n",
    "adds.shape, no_adds.shape"
   ]
  },
  {
   "cell_type": "code",
   "execution_count": 19,
   "id": "9f94e75f",
   "metadata": {},
   "outputs": [
    {
     "data": {
      "image/png": "[encoded data removed]",
      "text/plain": [
       "<Figure size 864x432 with 1 Axes>"
      ]
     },
     "metadata": {
      "needs_background": "light"
     },
     "output_type": "display_data"
    }
   ],
   "source": [
    "# \n",
    "p = sns.factorplot( x=\"addon_count\", y=\"churn\",  data=internet, size=6, \n",
    "                   aspect=2, kind=\"bar\", palette=\"muted\", ci=None, \n",
    "                   edgecolor=\".2\")\n",
    "plt.axhline(baseline, label = 'overall churn rate')\n",
    "#p.set_xticklabels(['Yes','No'])\n",
    "p.set_ylabels(\"Churn Rate\")\n",
    "p.set_xlabels(\"Number of add-ons\")\n",
    "plt.title('Does number of Add-ons Influence Churn Among Customers with Internet?')\n",
    "plt.show()"
   ]
  },
  {
   "cell_type": "markdown",
   "id": "306060eb",
   "metadata": {},
   "source": [
    "## it certainly appears those with internet churn more often than those without.  Let's test it!\n",
    "   #### Use a chi square test"
   ]
  },
  {
   "cell_type": "markdown",
   "id": "cb420d56",
   "metadata": {},
   "source": [
    "- **Hypothesis**\n",
    "\n",
    "- $H_0$: 'Churn is independent of the number of add-on services'\n",
    "\n",
    "- $H_a$: 'Churn is dependent on the number of add-on services'"
   ]
  },
  {
   "cell_type": "code",
   "execution_count": 20,
   "id": "2af1ffcb",
   "metadata": {},
   "outputs": [
    {
     "data": {
      "text/html": [
       "<div>\n",
       "<style scoped>\n",
       "    .dataframe tbody tr th:only-of-type {\n",
       "        vertical-align: middle;\n",
       "    }\n",
       "\n",
       "    .dataframe tbody tr th {\n",
       "        vertical-align: top;\n",
       "    }\n",
       "\n",
       "    .dataframe thead th {\n",
       "        text-align: right;\n",
       "    }\n",
       "</style>\n",
       "<table border=\"1\" class=\"dataframe\">\n",
       "  <thead>\n",
       "    <tr style=\"text-align: right;\">\n",
       "      <th>addon_count</th>\n",
       "      <th>0</th>\n",
       "      <th>1</th>\n",
       "      <th>2</th>\n",
       "      <th>3</th>\n",
       "      <th>4</th>\n",
       "      <th>5</th>\n",
       "      <th>6</th>\n",
       "    </tr>\n",
       "    <tr>\n",
       "      <th>churn</th>\n",
       "      <th></th>\n",
       "      <th></th>\n",
       "      <th></th>\n",
       "      <th></th>\n",
       "      <th></th>\n",
       "      <th></th>\n",
       "      <th></th>\n",
       "    </tr>\n",
       "  </thead>\n",
       "  <tbody>\n",
       "    <tr>\n",
       "      <th>0</th>\n",
       "      <td>192</td>\n",
       "      <td>319</td>\n",
       "      <td>382</td>\n",
       "      <td>488</td>\n",
       "      <td>402</td>\n",
       "      <td>315</td>\n",
       "      <td>151</td>\n",
       "    </tr>\n",
       "    <tr>\n",
       "      <th>1</th>\n",
       "      <td>217</td>\n",
       "      <td>267</td>\n",
       "      <td>228</td>\n",
       "      <td>182</td>\n",
       "      <td>106</td>\n",
       "      <td>47</td>\n",
       "      <td>7</td>\n",
       "    </tr>\n",
       "  </tbody>\n",
       "</table>\n",
       "</div>"
      ],
      "text/plain": [
       "addon_count    0    1    2    3    4    5    6\n",
       "churn                                         \n",
       "0            192  319  382  488  402  315  151\n",
       "1            217  267  228  182  106   47    7"
      ]
     },
     "execution_count": 20,
     "metadata": {},
     "output_type": "execute_result"
    }
   ],
   "source": [
    "# create observations using crosstab\n",
    "observed = pd.crosstab(internet.churn, internet.addon_count)\n",
    "observed"
   ]
  },
  {
   "cell_type": "code",
   "execution_count": 21,
   "id": "cb131654",
   "metadata": {},
   "outputs": [
    {
     "name": "stdout",
     "output_type": "stream",
     "text": [
      "Observed\n",
      "\n",
      "     0    1    2    3    4    5    6\n",
      "0  192  319  382  488  402  315  151\n",
      "1  217  267  228  182  106   47    7\n",
      "---\n",
      "Expected\n",
      "\n",
      "     0    1    2    3    4    5    6\n",
      "0  278  399  415  456  345  246  107\n",
      "1  130  186  194  213  162  115   50\n",
      "---\n",
      "\n",
      "chi^2 = 292.8944\n",
      "p     = 0.0000\n",
      "\n",
      "We reject the null hypothesis.\n"
     ]
    }
   ],
   "source": [
    "# calculate chi2 values\n",
    "chi2, p, degf, expected = stats.chi2_contingency(observed)\n",
    "\n",
    "expected = pd.DataFrame(expected).astype(int)\n",
    "\n",
    "print('Observed\\n')\n",
    "print(pd.DataFrame(observed.values))\n",
    "print('---\\nExpected\\n')\n",
    "print(expected)\n",
    "print('---\\n')\n",
    "print(f'chi^2 = {chi2:.4f}')\n",
    "print(f'p     = {p:.4f}')\n",
    "print('')\n",
    "\n",
    "if p < α:\n",
    "    print('We reject the null hypothesis.')\n",
    "else:\n",
    "    print('The null hypothesis is confirmed')"
   ]
  },
  {
   "cell_type": "markdown",
   "id": "f967c5c1",
   "metadata": {},
   "source": [
    "<div class=\"alert alert-block alert-warning\">\n",
    "\n",
    "**Conclusion** \n",
    "\n",
    "- We reject $H_0$ that the churn rate is independent of the number of add-on services.\n",
    "\n",
    "**Takeaway**\n",
    "\n",
    "- Internet users with more add-ons churn less"
   ]
  },
  {
   "cell_type": "markdown",
   "id": "73d827d4",
   "metadata": {},
   "source": [
    "## Were customers who churn paying higher prices for the same services?"
   ]
  },
  {
   "cell_type": "code",
   "execution_count": 22,
   "id": "a3b3c9a4",
   "metadata": {},
   "outputs": [
    {
     "data": {
      "image/png": "[encoded data removed]",
      "text/plain": [
       "<Figure size 720x360 with 1 Axes>"
      ]
     },
     "metadata": {
      "needs_background": "light"
     },
     "output_type": "display_data"
    }
   ],
   "source": [
    "m = sns.factorplot(x=\"addon_count\", y=\"monthly_charges\", hue='churn', data=train,\n",
    "                   size=5, aspect=2, kind=\"bar\", palette=\"muted\", ci=None, \n",
    "                   edgecolor=\".2\", legend=False)\n",
    "\n",
    "# sns.barplot(x='addon_count', y='monthly_charges', data=internet, hue='churn', palette='muted', size=5, aspect=2,)\n",
    "plt.title('Churners Had Higher Bills for the Same Number of Services')\n",
    "plt.xlabel('Number of add on services')\n",
    "plt.ylabel('Monthly Charges')\n",
    "plt.legend(title='Churn', labels=['No', 'Yes'])\n",
    "plt.show()"
   ]
  },
  {
   "cell_type": "markdown",
   "id": "ac9e1df9",
   "metadata": {},
   "source": [
    "<div class=\"alert alert-block alert-warning\">\n",
    "\n",
    "**Conclusion** \n",
    "\n",
    "- Customers that churned paid more for the same number of services\n",
    "\n",
    "**Takeaway**\n",
    "\n",
    "- More add-ons made customers more likely to stay, and if the price of the add-ons is lower they are even more likely to be retained"
   ]
  },
  {
   "cell_type": "markdown",
   "id": "7bf5d6b7",
   "metadata": {},
   "source": [
    "<div class=\"alert alert-block alert-success\"><b><font size=\"+1\">\n",
    "\n",
    "# Takeaways from Data Exploration\n",
    "\n",
    "- We've identified that internet customers churn at a higher rate\n",
    "- Internet customers with fewer add-on services, and those that pay more for internet services, churn more\n",
    "- Gender, phone service, and multiple lines are our least significant indicators of churn\n",
    "- During modeling we'll begin with the features we determined to be most important"
   ]
  },
  {
   "cell_type": "markdown",
   "id": "d4e11ee8",
   "metadata": {},
   "source": [
    "<hr style=\"border:10px solid purple\">\n"
   ]
  },
  {
   "cell_type": "markdown",
   "id": "7175c47d",
   "metadata": {},
   "source": [
    "# Model and Evaluate"
   ]
  },
  {
   "cell_type": "markdown",
   "id": "d5f50714",
   "metadata": {},
   "source": [
    "### Baseline Accuracy\n",
    "\n",
    "- It was previously determined that the baseline of customers who do not churn is 0.7347. \n",
    "- If we predict 'No Churn' for every observation, the accuracy would be 73.47%, so we are going to attempt to create a model that beats that standard."
   ]
  },
  {
   "cell_type": "code",
   "execution_count": 23,
   "id": "b21a2d52",
   "metadata": {},
   "outputs": [],
   "source": [
    "# identify features\n",
    "features = [ 'senior_citizen', 'tenure', 'monthly_charges',\n",
    "       'total_charges',  'dependents', 'paperless_billing', \n",
    "       'online_security_no', 'online_security_yes', 'online_backup_no',\n",
    "       'online_backup_yes', 'device_protection_no',\n",
    "       'device_protection_yes', 'tech_support_no', 'tech_support_yes',\n",
    "       'streaming_tv_no', 'streaming_tv_yes', 'streaming_movies_no',\n",
    "       'streaming_movies_yes', 'contract_type_month-to-month',\n",
    "       'contract_type_one_year', 'contract_type_two_year',\n",
    "       'payment_type_bank_transfer_auto', 'payment_type_credit_card_auto',\n",
    "       'payment_type_electronic_check', 'payment_type_mailed_check',\n",
    "       'internet_type_dsl', 'internet_type_fiber_optic',\n",
    "       'internet_type_none', 'addon_count']"
   ]
  },
  {
   "cell_type": "markdown",
   "id": "fd466b54",
   "metadata": {},
   "source": [
    "### Feature Selection\n",
    "\n",
    "- I performed initial testing on the train dataset with limited features based upon the significance determined earlier\n",
    "- On subsequent tests I added more features and saw slight improvements\n",
    "- The only features omitted in the final models were: 'male', 'phone' and 'multiple_lines'"
   ]
  },
  {
   "cell_type": "markdown",
   "id": "61c0fd54",
   "metadata": {},
   "source": [
    "### Initial testing \n",
    "- Evaluated models on accuracy, but because we have an unbalanceed class I also considered f1 score in order to wiegh precision and recall\n",
    "- Utilized three different model types, and adjusted arguments to find best fit\n",
    "- Using reduced features gave better accuracy scores, but poor f1 scores\n",
    "- Including a more robust feature list resulted in nearly the same accuracy, but improved f1 score considerably"
   ]
  },
  {
   "cell_type": "markdown",
   "id": "aa4b85cf",
   "metadata": {},
   "source": [
    "### Define X and y train, val, and test datasets."
   ]
  },
  {
   "cell_type": "code",
   "execution_count": 24,
   "id": "aef35b3d",
   "metadata": {},
   "outputs": [
    {
     "data": {
      "text/plain": [
       "((4225, 29), (1409, 29), (1409, 29))"
      ]
     },
     "execution_count": 24,
     "metadata": {},
     "output_type": "execute_result"
    }
   ],
   "source": [
    "# define X variables\n",
    "X_train = train[features]\n",
    "X_val = validate[features]\n",
    "X_test = test[features]\n",
    "X_train.shape, X_val.shape, X_test.shape"
   ]
  },
  {
   "cell_type": "code",
   "execution_count": 25,
   "id": "563decba",
   "metadata": {},
   "outputs": [
    {
     "data": {
      "text/plain": [
       "((4225,), (1409,), (1409,))"
      ]
     },
     "execution_count": 25,
     "metadata": {},
     "output_type": "execute_result"
    }
   ],
   "source": [
    "# Define y variables\n",
    "y_train = train.churn\n",
    "y_val = validate.churn\n",
    "y_test = test.churn\n",
    "y_train.shape, y_val.shape, y_test.shape"
   ]
  },
  {
   "cell_type": "markdown",
   "id": "bf12b1de",
   "metadata": {},
   "source": [
    "## K-Nearest Neighbor Model"
   ]
  },
  {
   "cell_type": "code",
   "execution_count": 26,
   "id": "d3c9d3a3",
   "metadata": {},
   "outputs": [
    {
     "name": "stdout",
     "output_type": "stream",
     "text": [
      "                KNN model\n",
      "*******************************************\n",
      " Training set\n",
      "              precision    recall  f1-score   support\n",
      "\n",
      "           0       0.81      0.94      0.87      3104\n",
      "           1       0.71      0.40      0.51      1121\n",
      "\n",
      "    accuracy                           0.80      4225\n",
      "   macro avg       0.76      0.67      0.69      4225\n",
      "weighted avg       0.79      0.80      0.78      4225\n",
      "\n",
      " Validation set\n",
      "              precision    recall  f1-score   support\n",
      "\n",
      "           0       0.80      0.95      0.87      1035\n",
      "           1       0.71      0.36      0.48       374\n",
      "\n",
      "    accuracy                           0.79      1409\n",
      "   macro avg       0.76      0.65      0.67      1409\n",
      "weighted avg       0.78      0.79      0.76      1409\n",
      "\n"
     ]
    }
   ],
   "source": [
    "# create model\n",
    "knn = KNeighborsClassifier(n_neighbors=16)\n",
    "knn.fit(X_train, y_train)\n",
    "\n",
    "# make predictions\n",
    "y_pred= knn.predict(X_train)\n",
    "y_predv=knn.predict(X_val)\n",
    "\n",
    "# print classification report\n",
    "print('                KNN model')\n",
    "print('*******************************************')\n",
    "print(' Training set')\n",
    "print(classification_report(y_train, y_pred))\n",
    "print(' Validation set')\n",
    "print(classification_report(y_val, y_predv))"
   ]
  },
  {
   "cell_type": "markdown",
   "id": "1aead8fa",
   "metadata": {},
   "source": [
    "### Random Forest Model"
   ]
  },
  {
   "cell_type": "code",
   "execution_count": 27,
   "id": "cb28fe4b",
   "metadata": {},
   "outputs": [
    {
     "name": "stdout",
     "output_type": "stream",
     "text": [
      "                RF model\n",
      "*******************************************\n",
      " Training set\n",
      "              precision    recall  f1-score   support\n",
      "\n",
      "           0       0.84      0.92      0.88      3104\n",
      "           1       0.70      0.51      0.59      1121\n",
      "\n",
      "    accuracy                           0.81      4225\n",
      "   macro avg       0.77      0.71      0.73      4225\n",
      "weighted avg       0.80      0.81      0.80      4225\n",
      "\n",
      " Validation set\n",
      "              precision    recall  f1-score   support\n",
      "\n",
      "           0       0.83      0.91      0.87      1035\n",
      "           1       0.66      0.47      0.55       374\n",
      "\n",
      "    accuracy                           0.79      1409\n",
      "   macro avg       0.74      0.69      0.71      1409\n",
      "weighted avg       0.78      0.79      0.78      1409\n",
      "\n"
     ]
    }
   ],
   "source": [
    "# create the model\n",
    "rf = RandomForestClassifier(bootstrap=True, \n",
    "                            class_weight=None, \n",
    "                            criterion='gini',\n",
    "                            min_samples_leaf=39,\n",
    "                            n_estimators=100,\n",
    "                            max_depth=30, \n",
    "                            random_state=123)\n",
    "# fit the model\n",
    "rf.fit(X_train, y_train)\n",
    "\n",
    "# make predictions\n",
    "y_pred= rf.predict(X_train)\n",
    "y_predv=rf.predict(X_val)\n",
    "\n",
    "# print classification reports\n",
    "print('                RF model')\n",
    "print('*******************************************')\n",
    "print(' Training set')\n",
    "print(classification_report(y_train, y_pred))\n",
    "print(' Validation set')\n",
    "print(classification_report(y_val, y_predv))\n"
   ]
  },
  {
   "cell_type": "markdown",
   "id": "5fa3a564",
   "metadata": {},
   "source": [
    "### Logistic Regression Model"
   ]
  },
  {
   "cell_type": "code",
   "execution_count": 28,
   "id": "3b12d756",
   "metadata": {},
   "outputs": [
    {
     "name": "stdout",
     "output_type": "stream",
     "text": [
      "                LR model\n",
      "*******************************************\n",
      " Training set\n",
      "              precision    recall  f1-score   support\n",
      "\n",
      "           0       0.85      0.89      0.87      3104\n",
      "           1       0.66      0.56      0.61      1121\n",
      "\n",
      "    accuracy                           0.81      4225\n",
      "   macro avg       0.75      0.73      0.74      4225\n",
      "weighted avg       0.80      0.81      0.80      4225\n",
      "\n",
      " Validation set\n",
      "              precision    recall  f1-score   support\n",
      "\n",
      "           0       0.85      0.87      0.86      1035\n",
      "           1       0.61      0.56      0.59       374\n",
      "\n",
      "    accuracy                           0.79      1409\n",
      "   macro avg       0.73      0.72      0.72      1409\n",
      "weighted avg       0.78      0.79      0.79      1409\n",
      "\n"
     ]
    }
   ],
   "source": [
    "# create model\n",
    "logit = LogisticRegression(C=1, random_state=333)\n",
    "\n",
    "# fit model\n",
    "logit.fit(X_train, y_train)\n",
    "\n",
    "# make predictions\n",
    "y_pred= logit.predict(X_train)\n",
    "y_predv=logit.predict(X_val)\n",
    "\n",
    "#output classification reports\n",
    "print('                LR model')\n",
    "print('*******************************************')\n",
    "print(' Training set')\n",
    "print(classification_report(y_train, y_pred))\n",
    "print(' Validation set')\n",
    "print(classification_report(y_val, y_predv))"
   ]
  },
  {
   "cell_type": "markdown",
   "id": "5103acb1",
   "metadata": {},
   "source": [
    "<div class=\"alert alert-block alert-warning\"><b><font size=\"+1\">\n",
    "\n",
    "\n",
    "** Model and Evaluate - Takeaways **\n",
    "\n",
    "- All three models had similar accuracy for training and validate sets, with scores ranging from 79-81%<br><br>\n",
    "- Overall f1 scores also had similar values accross the three models<br><br>\n",
    "\n",
    "- Because of our imbalanced data I used the f1 score of the positive case, customers who churn, as the deciding factor for which model to move forward.<br><br>\n",
    "- By this measure the Logistic Regression Model performed best:\n",
    "\n",
    "| Model | F1 score for train '1's | F1 score for validate '1's  |\n",
    "| --- | --- | --- |\n",
    "| K-Nearest Neighbor | .51 | .49 |\n",
    "| Random Forest | .59 | .54 |\n",
    "| Logistic Regression | .61| .59 |"
   ]
  },
  {
   "cell_type": "markdown",
   "id": "b6bbd565",
   "metadata": {},
   "source": [
    "<hr style=\"border:10px solid purple\">\n"
   ]
  },
  {
   "cell_type": "markdown",
   "id": "f631e564",
   "metadata": {},
   "source": [
    "## Testing the  Best Model\n",
    "\n",
    "- Now testing the Logistic Regression model against our test data"
   ]
  },
  {
   "cell_type": "code",
   "execution_count": 29,
   "id": "60a1f51e",
   "metadata": {},
   "outputs": [
    {
     "name": "stdout",
     "output_type": "stream",
     "text": [
      "                Final model\n",
      "*******************************************\n",
      " Training set\n",
      "              precision    recall  f1-score   support\n",
      "\n",
      "           0       0.86      0.88      0.87      1035\n",
      "           1       0.65      0.60      0.62       374\n",
      "\n",
      "    accuracy                           0.81      1409\n",
      "   macro avg       0.76      0.74      0.75      1409\n",
      "weighted avg       0.80      0.81      0.81      1409\n",
      "\n"
     ]
    }
   ],
   "source": [
    "# make predictions\n",
    "y_predt= logit.predict(X_test)\n",
    "\n",
    "#output classification reports\n",
    "print('                Final model')\n",
    "print('*******************************************')\n",
    "print(' Training set')\n",
    "print(classification_report(y_test, y_predt))\n"
   ]
  },
  {
   "cell_type": "markdown",
   "id": "326ab6a5",
   "metadata": {},
   "source": [
    "<div class=\"alert alert-block alert-success\"><b><font size=\"+1\">\n",
    "\n",
    "## Testing Takeaways \n",
    "### 81% accurate prediction of churn on the test dataset\n",
    "\n",
    "- Found after testing three models, that they had similar accuracies, but the LR model had superior f1 score\n"
   ]
  },
  {
   "cell_type": "markdown",
   "id": "e8ddf0f7",
   "metadata": {},
   "source": [
    "<hr style=\"border:10px solid purple\">\n"
   ]
  },
  {
   "cell_type": "markdown",
   "id": "b98d6def",
   "metadata": {},
   "source": [
    "# Create the Predictions CSV\n",
    "\n",
    "- Create a CSV file with 3 columns\n",
    "\n",
    "        customer id\n",
    "\n",
    "        probability of churn\n",
    "\n",
    "        prediciton of churn (1=churn, 0=not_churn)\n",
    "\n",
    "\n",
    "- These predictions are from our Logistic Regression model which was our best performing model"
   ]
  },
  {
   "cell_type": "code",
   "execution_count": 30,
   "id": "c91b7856",
   "metadata": {},
   "outputs": [],
   "source": [
    "# create the probabilities column based on our previously trained model\n",
    "proba_test = pd.DataFrame(logit.predict_proba(X_test))\n",
    "prob_col = (proba_test[1])\n",
    "\n",
    "# create the predictions column based upon our previously trained model\n",
    "pred_col = pd.Series(y_predt)\n",
    "\n",
    "# create the customer id column\n",
    "id_col = pd.Series(test.customer_id.to_list())"
   ]
  },
  {
   "cell_type": "code",
   "execution_count": 31,
   "id": "cd804799",
   "metadata": {},
   "outputs": [],
   "source": [
    "# create dataframe of our columns\n",
    "output = pd.concat([id_col, prob_col, pred_col],axis=1)\n",
    "\n",
    "# export output to csv file\n",
    "output.to_csv('Predictions.csv', index=False, header=False)"
   ]
  },
  {
   "cell_type": "markdown",
   "id": "17a1b091",
   "metadata": {},
   "source": [
    "<hr style=\"border:10px solid purple\">\n"
   ]
  },
  {
   "cell_type": "markdown",
   "id": "f1d5526b",
   "metadata": {},
   "source": [
    "\n",
    "# Conclusions and Next Steps\n",
    "\n",
    "- We created a churn predictor that beat the baseline prediction by more than 7%\n",
    "\n",
    "\n",
    "- The customers that our model predicted as more likely-churned, but who haven't churned yet, should be incentivized to remain customers \n",
    "\n",
    "\n",
    "- Customers with Internet Service (particularly those that do not have add-ons) are more likely to churn, especially if their bills are higher.  Making the add-ons less expensive could help retain customers longer.\n",
    "\n",
    "\n",
    "- Shorter contract types showed higher correlation to churn, and given more time I would have explored that further to determine what other factors drove those customers to churn\n"
   ]
  },
  {
   "cell_type": "code",
   "execution_count": null,
   "id": "d3842daa",
   "metadata": {},
   "outputs": [],
   "source": []
  },
  {
   "cell_type": "code",
   "execution_count": null,
   "id": "100de717",
   "metadata": {},
   "outputs": [],
   "source": []
  }
 ],
 "metadata": {
  "kernelspec": {
   "display_name": "Python 3 (ipykernel)",
   "language": "python",
   "name": "python3"
  },
  "language_info": {
   "codemirror_mode": {
    "name": "ipython",
    "version": 3
   },
   "file_extension": ".py",
   "mimetype": "text/x-python",
   "name": "python",
   "nbconvert_exporter": "python",
   "pygments_lexer": "ipython3",
   "version": "3.9.12"
  }
 },
 "nbformat": 4,
 "nbformat_minor": 5
}
